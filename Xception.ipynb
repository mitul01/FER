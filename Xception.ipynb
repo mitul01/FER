{
  "nbformat": 4,
  "nbformat_minor": 0,
  "metadata": {
    "accelerator": "GPU",
    "colab": {
      "name": "Xception.ipynb",
      "provenance": [],
      "authorship_tag": "ABX9TyMEkVEaF7qx64ql+yQ5ya8Q",
      "include_colab_link": true
    },
    "kernelspec": {
      "display_name": "Python 3",
      "name": "python3"
    }
  },
  "cells": [
    {
      "cell_type": "markdown",
      "metadata": {
        "id": "view-in-github",
        "colab_type": "text"
      },
      "source": [
        "<a href=\"https://colab.research.google.com/github/mitul01/FER/blob/main/Xception.ipynb\" target=\"_parent\"><img src=\"https://colab.research.google.com/assets/colab-badge.svg\" alt=\"Open In Colab\"/></a>"
      ]
    },
    {
      "cell_type": "code",
      "metadata": {
        "colab": {
          "base_uri": "https://localhost:8080/"
        },
        "id": "yY28c0nHcAQj",
        "outputId": "b7db2cfb-1595-41ee-f5e8-91eeb0345a12"
      },
      "source": [
        "from google.colab import drive\r\n",
        "drive.mount('/content/drive')"
      ],
      "execution_count": 1,
      "outputs": [
        {
          "output_type": "stream",
          "text": [
            "Mounted at /content/drive\n"
          ],
          "name": "stdout"
        }
      ]
    },
    {
      "cell_type": "code",
      "metadata": {
        "colab": {
          "base_uri": "https://localhost:8080/"
        },
        "id": "W50-aGQYcIuv",
        "outputId": "f2873c3f-a373-4079-d4f4-be4b1e9c3905"
      },
      "source": [
        "cd /content/drive/MyDrive/colab-20210303T131708Z-001/colab"
      ],
      "execution_count": 2,
      "outputs": [
        {
          "output_type": "stream",
          "text": [
            "/content/drive/MyDrive/colab-20210303T131708Z-001/colab\n"
          ],
          "name": "stdout"
        }
      ]
    },
    {
      "cell_type": "code",
      "metadata": {
        "id": "3qpLLjixcTIn"
      },
      "source": [
        "from keras.applications import Xception\r\n",
        "# set matplotlib backend so figures can be saved in the background\r\n",
        "import matplotlib\r\n",
        "matplotlib.use(\"Agg\")\r\n",
        "\r\n",
        "# import packages\r\n",
        "from config import emotion_config as config\r\n",
        "from pipeline.io import HDF5DatasetWriter\r\n",
        "import numpy as np\r\n",
        "import pandas as pd \r\n",
        "from keras.utils import to_categorical\r\n",
        "from pipeline.preprocessing import ImageToArrayPreprocessor\r\n",
        "from pipeline.io import HDF5DatasetGenerator\r\n",
        "from pipeline.callbacks import EpochCheckpoint\r\n",
        "from pipeline.callbacks import TrainingMonitor\r\n",
        "from pipeline.io import HDF5DatasetGenerator\r\n",
        "from keras.preprocessing.image import ImageDataGenerator\r\n",
        "from keras.optimizers import Adam,SGD\r\n",
        "from keras.models import load_model\r\n",
        "from keras import backend as K\r\n",
        "import argparse\r\n",
        "import os\r\n",
        "\r\n",
        "from keras.callbacks import ReduceLROnPlateau, EarlyStopping, TensorBoard, ModelCheckpoint\r\n",
        "from sklearn.metrics import accuracy_score"
      ],
      "execution_count": 6,
      "outputs": []
    },
    {
      "cell_type": "code",
      "metadata": {
        "colab": {
          "base_uri": "https://localhost:8080/"
        },
        "id": "bsg41D00273O",
        "outputId": "0544a315-cab0-426e-d797-82497aa4d402"
      },
      "source": [
        "trainAug = ImageDataGenerator(\r\n",
        "                            rescale=1./255,\r\n",
        "                            featurewise_center=False,\r\n",
        "                            featurewise_std_normalization=False,\r\n",
        "                            rotation_range=10,\r\n",
        "                            width_shift_range=0.1,\r\n",
        "                            height_shift_range=0.1,\r\n",
        "                            zoom_range=0.1,\r\n",
        "                            horizontal_flip=True)\r\n",
        "\r\n",
        "valAug = ImageDataGenerator(rescale=1./255,)\r\n",
        "\r\n",
        "iap = ImageToArrayPreprocessor()\r\n",
        "\r\n",
        "trainGen_hdf5 = HDF5DatasetGenerator(config.TRAIN_HDF5, config.BATCH_SIZE,\r\n",
        "    aug = trainAug, preprocessors = [iap], classes = config.NUM_CLASSES,)\r\n",
        "\r\n",
        "valGen_hdf5 = HDF5DatasetGenerator(config.VAL_HDF5, config.BATCH_SIZE,\r\n",
        "    aug = valAug, preprocessors = [iap], classes = config.NUM_CLASSES)"
      ],
      "execution_count": 7,
      "outputs": [
        {
          "output_type": "stream",
          "text": [
            "/content/drive/MyDrive/colab-20210303T131708Z-001/colab/pipeline/io/hdf5datasetgenerator.py:20: H5pyDeprecationWarning: The default file mode will change to 'r' (read-only) in h5py 3.0. To suppress this warning, pass the mode you need to h5py.File(), or set the global default h5.get_config().default_file_mode, or set the environment variable H5PY_DEFAULT_READONLY=1. Available modes are: 'r', 'r+', 'w', 'w-'/'x', 'a'. See the docs for details.\n",
            "  self.db = h5py.File(dbPath)\n"
          ],
          "name": "stderr"
        }
      ]
    },
    {
      "cell_type": "markdown",
      "metadata": {
        "id": "J5Tk4IU4fwf1"
      },
      "source": [
        "#Xception preloaded"
      ]
    },
    {
      "cell_type": "code",
      "metadata": {
        "id": "jWzUu7w98x2U",
        "colab": {
          "base_uri": "https://localhost:8080/"
        },
        "outputId": "24554a6c-0dc0-4969-dbbf-72387735d8ee"
      },
      "source": [
        "model = Xception(classes = config.NUM_CLASSES,weights=None,input_shape=(71,71,1))\r\n",
        "\r\n",
        "opt = Adam(lr = 1e-3)\r\n",
        "model.compile(loss = \"categorical_crossentropy\", optimizer =opt,\r\n",
        "    metrics = [\"accuracy\"])\r\n",
        "\r\n",
        "figPath = os.path.sep.join([config.OUTPUT_PATH, \"resnet50.png\"])\r\n",
        "jsonPath = os.path.sep.join([config.OUTPUT_PATH, \"resnet50.json\"])\r\n",
        "\r\n",
        "callbacks = [\r\n",
        "    EpochCheckpoint(\"checkpoints\", every = 5, #startAt = args[\"start_epoch\"]\r\n",
        "                     ),TrainingMonitor(figPath, jsonPath = jsonPath) \r\n",
        "                     #startAt = args[\"start_epoch\"]och\"]                    \r\n",
        " ]\r\n",
        "\r\n",
        "early_stopping = EarlyStopping(\r\n",
        "    monitor='val_accuracy',\r\n",
        "    min_delta=0.00005,\r\n",
        "    patience=10,\r\n",
        "    verbose=1,\r\n",
        "    restore_best_weights=True)\r\n",
        "\r\n",
        "lr_scheduler = ReduceLROnPlateau(\r\n",
        "    monitor='val_loss',\r\n",
        "    factor=0.5,\r\n",
        "    patience=10,\r\n",
        "    min_lr=1e-7,\r\n",
        "    verbose=1,\r\n",
        ")\r\n",
        "\r\n",
        "callbacks = [\r\n",
        "    early_stopping,\r\n",
        "    lr_scheduler,\r\n",
        "]\r\n",
        "\r\n",
        "# train network\r\n",
        "\r\n",
        "history=model.fit_generator(\r\n",
        "    trainGen_hdf5.generator(),\r\n",
        "    steps_per_epoch = trainGen_hdf5.numImages // config.BATCH_SIZE,\r\n",
        "    validation_data = valGen_hdf5.generator(),\r\n",
        "    validation_steps = valGen_hdf5.numImages // config.BATCH_SIZE,\r\n",
        "    epochs = 150,\r\n",
        "    max_queue_size = config.BATCH_SIZE * 2,\r\n",
        "    callbacks = callbacks,\r\n",
        "    verbose = 1\r\n",
        "    \r\n",
        ")\r\n",
        "# close the dataset"
      ],
      "execution_count": 9,
      "outputs": [
        {
          "output_type": "stream",
          "text": [
            "/usr/local/lib/python3.7/dist-packages/tensorflow/python/keras/engine/training.py:1844: UserWarning: `Model.fit_generator` is deprecated and will be removed in a future version. Please use `Model.fit`, which supports generators.\n",
            "  warnings.warn('`Model.fit_generator` is deprecated and '\n"
          ],
          "name": "stderr"
        },
        {
          "output_type": "stream",
          "text": [
            "Epoch 1/150\n",
            "224/224 [==============================] - 65s 124ms/step - loss: 1.7182 - accuracy: 0.2826 - val_loss: 1.7816 - val_accuracy: 0.2447\n",
            "Epoch 2/150\n",
            "224/224 [==============================] - 28s 121ms/step - loss: 1.4133 - accuracy: 0.4354 - val_loss: 1.7908 - val_accuracy: 0.2567\n",
            "Epoch 3/150\n",
            "224/224 [==============================] - 27s 123ms/step - loss: 1.2764 - accuracy: 0.5015 - val_loss: 1.5604 - val_accuracy: 0.4353\n",
            "Epoch 4/150\n",
            "224/224 [==============================] - 28s 124ms/step - loss: 1.2009 - accuracy: 0.5327 - val_loss: 1.2796 - val_accuracy: 0.4967\n",
            "Epoch 5/150\n",
            "224/224 [==============================] - 28s 123ms/step - loss: 1.1412 - accuracy: 0.5611 - val_loss: 1.4550 - val_accuracy: 0.4849\n",
            "Epoch 6/150\n",
            "224/224 [==============================] - 28s 123ms/step - loss: 1.1068 - accuracy: 0.5711 - val_loss: 1.3353 - val_accuracy: 0.4975\n",
            "Epoch 7/150\n",
            "224/224 [==============================] - 28s 124ms/step - loss: 1.0821 - accuracy: 0.5851 - val_loss: 1.5117 - val_accuracy: 0.4640\n",
            "Epoch 8/150\n",
            "224/224 [==============================] - 28s 123ms/step - loss: 1.0590 - accuracy: 0.5878 - val_loss: 1.1384 - val_accuracy: 0.5809\n",
            "Epoch 9/150\n",
            "224/224 [==============================] - 28s 123ms/step - loss: 1.0393 - accuracy: 0.6043 - val_loss: 1.3157 - val_accuracy: 0.5142\n",
            "Epoch 10/150\n",
            "224/224 [==============================] - 28s 124ms/step - loss: 1.0104 - accuracy: 0.6143 - val_loss: 1.3431 - val_accuracy: 0.5335\n",
            "Epoch 11/150\n",
            "224/224 [==============================] - 28s 123ms/step - loss: 0.9960 - accuracy: 0.6189 - val_loss: 1.2726 - val_accuracy: 0.5123\n",
            "Epoch 12/150\n",
            "224/224 [==============================] - 28s 123ms/step - loss: 0.9856 - accuracy: 0.6225 - val_loss: 1.2582 - val_accuracy: 0.5435\n",
            "Epoch 13/150\n",
            "224/224 [==============================] - 28s 123ms/step - loss: 0.9516 - accuracy: 0.6349 - val_loss: 1.2233 - val_accuracy: 0.5338\n",
            "Epoch 14/150\n",
            "224/224 [==============================] - 28s 124ms/step - loss: 0.9401 - accuracy: 0.6442 - val_loss: 1.4822 - val_accuracy: 0.4528\n",
            "Epoch 15/150\n",
            "224/224 [==============================] - 28s 123ms/step - loss: 0.9279 - accuracy: 0.6471 - val_loss: 1.1986 - val_accuracy: 0.5477\n",
            "Epoch 16/150\n",
            "224/224 [==============================] - 28s 123ms/step - loss: 0.9096 - accuracy: 0.6524 - val_loss: 1.5261 - val_accuracy: 0.4347\n",
            "Epoch 17/150\n",
            "224/224 [==============================] - 28s 123ms/step - loss: 0.8950 - accuracy: 0.6575 - val_loss: 1.2604 - val_accuracy: 0.5466\n",
            "Epoch 18/150\n",
            "224/224 [==============================] - 28s 124ms/step - loss: 0.8732 - accuracy: 0.6664 - val_loss: 1.2082 - val_accuracy: 0.5734\n",
            "Restoring model weights from the end of the best epoch.\n",
            "\n",
            "Epoch 00018: ReduceLROnPlateau reducing learning rate to 0.0005000000237487257.\n",
            "Epoch 00018: early stopping\n"
          ],
          "name": "stdout"
        }
      ]
    },
    {
      "cell_type": "code",
      "metadata": {
        "colab": {
          "base_uri": "https://localhost:8080/"
        },
        "id": "hIInc-_xO8qL",
        "outputId": "3821c6e1-2bca-46d0-c469-93cc29b6d144"
      },
      "source": [
        "testAug = ImageDataGenerator(rescale = 1 / 255.0)\r\n",
        "iap = ImageToArrayPreprocessor()\r\n",
        "\r\n",
        "testGen = HDF5DatasetGenerator(config.TEST_HDF5, config.BATCH_SIZE,\r\n",
        "    aug = testAug, preprocessors = [iap], classes = config.NUM_CLASSES)"
      ],
      "execution_count": 10,
      "outputs": [
        {
          "output_type": "stream",
          "text": [
            "/content/drive/MyDrive/colab-20210303T131708Z-001/colab/pipeline/io/hdf5datasetgenerator.py:20: H5pyDeprecationWarning: The default file mode will change to 'r' (read-only) in h5py 3.0. To suppress this warning, pass the mode you need to h5py.File(), or set the global default h5.get_config().default_file_mode, or set the environment variable H5PY_DEFAULT_READONLY=1. Available modes are: 'r', 'r+', 'w', 'w-'/'x', 'a'. See the docs for details.\n",
            "  self.db = h5py.File(dbPath)\n"
          ],
          "name": "stderr"
        }
      ]
    },
    {
      "cell_type": "code",
      "metadata": {
        "colab": {
          "base_uri": "https://localhost:8080/"
        },
        "id": "YR5NQXMhPapa",
        "outputId": "b501e586-f84d-41a9-c789-8657ac3d43dc"
      },
      "source": [
        "predictions = model.predict_generator(testGen.generator(),steps=testGen.numImages //64, max_queue_size=64*2)\r\n",
        "\r\n",
        "(loss, acc) = model.evaluate_generator(\r\n",
        "\ttestGen.generator(),\r\n",
        "\tsteps=testGen.numImages // config.BATCH_SIZE,\r\n",
        "\tmax_queue_size=config.BATCH_SIZE * 2)\r\n",
        "print(\"[INFO] accuracy: {:.2f}\".format(acc * 100))"
      ],
      "execution_count": 11,
      "outputs": [
        {
          "output_type": "stream",
          "text": [
            "/usr/local/lib/python3.7/dist-packages/tensorflow/python/keras/engine/training.py:1905: UserWarning: `Model.predict_generator` is deprecated and will be removed in a future version. Please use `Model.predict`, which supports generators.\n",
            "  warnings.warn('`Model.predict_generator` is deprecated and '\n",
            "/usr/local/lib/python3.7/dist-packages/tensorflow/python/keras/engine/training.py:1877: UserWarning: `Model.evaluate_generator` is deprecated and will be removed in a future version. Please use `Model.evaluate`, which supports generators.\n",
            "  warnings.warn('`Model.evaluate_generator` is deprecated and '\n"
          ],
          "name": "stderr"
        },
        {
          "output_type": "stream",
          "text": [
            "[INFO] accuracy: 57.87\n"
          ],
          "name": "stdout"
        }
      ]
    },
    {
      "cell_type": "code",
      "metadata": {
        "id": "Bhr_VFtPJ0rj"
      },
      "source": [
        ""
      ],
      "execution_count": null,
      "outputs": []
    }
  ]
}