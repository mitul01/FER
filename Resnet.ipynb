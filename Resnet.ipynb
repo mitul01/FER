{
  "nbformat": 4,
  "nbformat_minor": 0,
  "metadata": {
    "accelerator": "GPU",
    "colab": {
      "name": "Resnet.ipynb",
      "provenance": [],
      "authorship_tag": "ABX9TyOLQqSpUrKwVLp2Ze/7+V/q",
      "include_colab_link": true
    },
    "kernelspec": {
      "display_name": "Python 3",
      "name": "python3"
    }
  },
  "cells": [
    {
      "cell_type": "markdown",
      "metadata": {
        "id": "view-in-github",
        "colab_type": "text"
      },
      "source": [
        "<a href=\"https://colab.research.google.com/github/mitul01/FER/blob/main/Resnet.ipynb\" target=\"_parent\"><img src=\"https://colab.research.google.com/assets/colab-badge.svg\" alt=\"Open In Colab\"/></a>"
      ]
    },
    {
      "cell_type": "code",
      "metadata": {
        "colab": {
          "base_uri": "https://localhost:8080/"
        },
        "id": "yY28c0nHcAQj",
        "outputId": "6e863fd8-00a9-4c77-e68e-9d120e280d84"
      },
      "source": [
        "from google.colab import drive\r\n",
        "drive.mount('/content/drive')"
      ],
      "execution_count": 1,
      "outputs": [
        {
          "output_type": "stream",
          "text": [
            "Mounted at /content/drive\n"
          ],
          "name": "stdout"
        }
      ]
    },
    {
      "cell_type": "code",
      "metadata": {
        "colab": {
          "base_uri": "https://localhost:8080/"
        },
        "id": "W50-aGQYcIuv",
        "outputId": "7a3ab144-133e-4faa-f18b-ac754994d1b9"
      },
      "source": [
        "cd /content/drive/MyDrive/colab-20210303T131708Z-001/colab"
      ],
      "execution_count": 2,
      "outputs": [
        {
          "output_type": "stream",
          "text": [
            "/content/drive/MyDrive/colab-20210303T131708Z-001/colab\n"
          ],
          "name": "stdout"
        }
      ]
    },
    {
      "cell_type": "code",
      "metadata": {
        "id": "3qpLLjixcTIn"
      },
      "source": [
        "from keras.applications import ResNet50\r\n",
        "# set matplotlib backend so figures can be saved in the background\r\n",
        "import matplotlib\r\n",
        "matplotlib.use(\"Agg\")\r\n",
        "\r\n",
        "# import packages\r\n",
        "from config import emotion_config as config\r\n",
        "from pipeline.io import HDF5DatasetWriter\r\n",
        "import numpy as np\r\n",
        "import pandas as pd \r\n",
        "from keras.utils import to_categorical\r\n",
        "from pipeline.preprocessing import ImageToArrayPreprocessor\r\n",
        "from pipeline.io import HDF5DatasetGenerator\r\n",
        "from pipeline.callbacks import EpochCheckpoint\r\n",
        "from pipeline.callbacks import TrainingMonitor\r\n",
        "from pipeline.io import HDF5DatasetGenerator\r\n",
        "from keras.preprocessing.image import ImageDataGenerator\r\n",
        "from keras.optimizers import Adam,SGD\r\n",
        "from keras.models import load_model\r\n",
        "from keras import backend as K\r\n",
        "import argparse\r\n",
        "import os\r\n",
        "\r\n",
        "from keras.callbacks import ReduceLROnPlateau, EarlyStopping, TensorBoard, ModelCheckpoint\r\n",
        "from sklearn.metrics import accuracy_score"
      ],
      "execution_count": 3,
      "outputs": []
    },
    {
      "cell_type": "code",
      "metadata": {
        "colab": {
          "base_uri": "https://localhost:8080/"
        },
        "id": "bsg41D00273O",
        "outputId": "28211617-04d5-426c-e3dc-4acc79fdcee2"
      },
      "source": [
        "trainAug = ImageDataGenerator(\r\n",
        "                            rescale=1./255,\r\n",
        "                            featurewise_center=False,\r\n",
        "                            featurewise_std_normalization=False,\r\n",
        "                            rotation_range=10,\r\n",
        "                            width_shift_range=0.1,\r\n",
        "                            height_shift_range=0.1,\r\n",
        "                            zoom_range=0.1,\r\n",
        "                            horizontal_flip=True)\r\n",
        "\r\n",
        "valAug = ImageDataGenerator(rescale=1./255,)\r\n",
        "\r\n",
        "iap = ImageToArrayPreprocessor()\r\n",
        "\r\n",
        "trainGen_hdf5 = HDF5DatasetGenerator(config.TRAIN_HDF5, config.BATCH_SIZE,\r\n",
        "    aug = trainAug, preprocessors = [iap], classes = config.NUM_CLASSES,)\r\n",
        "\r\n",
        "valGen_hdf5 = HDF5DatasetGenerator(config.VAL_HDF5, config.BATCH_SIZE,\r\n",
        "    aug = valAug, preprocessors = [iap], classes = config.NUM_CLASSES)"
      ],
      "execution_count": 9,
      "outputs": [
        {
          "output_type": "stream",
          "text": [
            "/content/drive/MyDrive/colab-20210303T131708Z-001/colab/pipeline/io/hdf5datasetgenerator.py:20: H5pyDeprecationWarning: The default file mode will change to 'r' (read-only) in h5py 3.0. To suppress this warning, pass the mode you need to h5py.File(), or set the global default h5.get_config().default_file_mode, or set the environment variable H5PY_DEFAULT_READONLY=1. Available modes are: 'r', 'r+', 'w', 'w-'/'x', 'a'. See the docs for details.\n",
            "  self.db = h5py.File(dbPath)\n"
          ],
          "name": "stderr"
        }
      ]
    },
    {
      "cell_type": "markdown",
      "metadata": {
        "id": "J5Tk4IU4fwf1"
      },
      "source": [
        "#Resnet preloaded"
      ]
    },
    {
      "cell_type": "code",
      "metadata": {
        "id": "jWzUu7w98x2U",
        "colab": {
          "base_uri": "https://localhost:8080/"
        },
        "outputId": "2460ca0b-3846-4689-ab15-3ded737567a8"
      },
      "source": [
        "model = ResNet50(classes = config.NUM_CLASSES,weights=None,input_shape=(48,48,1))\r\n",
        "\r\n",
        "opt = Adam(lr = 1e-3)\r\n",
        "model.compile(loss = \"categorical_crossentropy\", optimizer =opt,\r\n",
        "    metrics = [\"accuracy\"])\r\n",
        "\r\n",
        "figPath = os.path.sep.join([config.OUTPUT_PATH, \"resnet50.png\"])\r\n",
        "jsonPath = os.path.sep.join([config.OUTPUT_PATH, \"resnet50.json\"])\r\n",
        "\r\n",
        "callbacks = [\r\n",
        "    EpochCheckpoint(\"checkpoints\", every = 5, #startAt = args[\"start_epoch\"]\r\n",
        "                     ),TrainingMonitor(figPath, jsonPath = jsonPath) \r\n",
        "                     #startAt = args[\"start_epoch\"]och\"]                    \r\n",
        " ]\r\n",
        "\r\n",
        "early_stopping = EarlyStopping(\r\n",
        "    monitor='val_accuracy',\r\n",
        "    min_delta=0.00005,\r\n",
        "    patience=10,\r\n",
        "    verbose=1,\r\n",
        "    restore_best_weights=True)\r\n",
        "\r\n",
        "lr_scheduler = ReduceLROnPlateau(\r\n",
        "    monitor='val_loss',\r\n",
        "    factor=0.5,\r\n",
        "    patience=10,\r\n",
        "    min_lr=1e-7,\r\n",
        "    verbose=1,\r\n",
        ")\r\n",
        "\r\n",
        "callbacks = [\r\n",
        "    early_stopping,\r\n",
        "    lr_scheduler,\r\n",
        "]\r\n",
        "\r\n",
        "# train network\r\n",
        "\r\n",
        "history=model.fit_generator(\r\n",
        "    trainGen_hdf5.generator(),\r\n",
        "    steps_per_epoch = trainGen_hdf5.numImages // config.BATCH_SIZE,\r\n",
        "    validation_data = valGen_hdf5.generator(),\r\n",
        "    validation_steps = valGen_hdf5.numImages // config.BATCH_SIZE,\r\n",
        "    epochs = 150,\r\n",
        "    max_queue_size = config.BATCH_SIZE * 2,\r\n",
        "    callbacks = callbacks,\r\n",
        "    verbose = 1\r\n",
        "    \r\n",
        ")\r\n",
        "# close the dataset"
      ],
      "execution_count": 10,
      "outputs": [
        {
          "output_type": "stream",
          "text": [
            "/usr/local/lib/python3.7/dist-packages/tensorflow/python/keras/engine/training.py:1844: UserWarning: `Model.fit_generator` is deprecated and will be removed in a future version. Please use `Model.fit`, which supports generators.\n",
            "  warnings.warn('`Model.fit_generator` is deprecated and '\n"
          ],
          "name": "stderr"
        },
        {
          "output_type": "stream",
          "text": [
            "Epoch 1/150\n",
            "224/224 [==============================] - 64s 115ms/step - loss: 2.3836 - accuracy: 0.2363 - val_loss: 1.8023 - val_accuracy: 0.2453\n",
            "Epoch 2/150\n",
            "224/224 [==============================] - 26s 112ms/step - loss: 1.7982 - accuracy: 0.2851 - val_loss: 7.0501 - val_accuracy: 0.2570\n",
            "Epoch 3/150\n",
            "224/224 [==============================] - 25s 112ms/step - loss: 1.7741 - accuracy: 0.3231 - val_loss: 6.6249 - val_accuracy: 0.3465\n",
            "Epoch 4/150\n",
            "224/224 [==============================] - 25s 113ms/step - loss: 1.6600 - accuracy: 0.3551 - val_loss: 1.7897 - val_accuracy: 0.2606\n",
            "Epoch 5/150\n",
            "224/224 [==============================] - 26s 115ms/step - loss: 1.5359 - accuracy: 0.3916 - val_loss: 1.4906 - val_accuracy: 0.3970\n",
            "Epoch 6/150\n",
            "224/224 [==============================] - 25s 113ms/step - loss: 1.4640 - accuracy: 0.4210 - val_loss: 10.7407 - val_accuracy: 0.3571\n",
            "Epoch 7/150\n",
            "224/224 [==============================] - 25s 113ms/step - loss: 1.4131 - accuracy: 0.4483 - val_loss: 1.8648 - val_accuracy: 0.4057\n",
            "Epoch 8/150\n",
            "224/224 [==============================] - 25s 113ms/step - loss: 1.4180 - accuracy: 0.4512 - val_loss: 115.2907 - val_accuracy: 0.2533\n",
            "Epoch 9/150\n",
            "224/224 [==============================] - 25s 113ms/step - loss: 1.5384 - accuracy: 0.4054 - val_loss: 1.5761 - val_accuracy: 0.4074\n",
            "Epoch 10/150\n",
            "224/224 [==============================] - 25s 114ms/step - loss: 1.3868 - accuracy: 0.4722 - val_loss: 1.9042 - val_accuracy: 0.3019\n",
            "Epoch 11/150\n",
            "224/224 [==============================] - 25s 113ms/step - loss: 1.3421 - accuracy: 0.4869 - val_loss: 1.5598 - val_accuracy: 0.4275\n",
            "Epoch 12/150\n",
            "224/224 [==============================] - 25s 114ms/step - loss: 1.2937 - accuracy: 0.5113 - val_loss: 1.6045 - val_accuracy: 0.5198\n",
            "Epoch 13/150\n",
            "224/224 [==============================] - 25s 114ms/step - loss: 1.2681 - accuracy: 0.5198 - val_loss: 1.3956 - val_accuracy: 0.4607\n",
            "Epoch 14/150\n",
            "224/224 [==============================] - 26s 114ms/step - loss: 1.2478 - accuracy: 0.5319 - val_loss: 2.1176 - val_accuracy: 0.4559\n",
            "Epoch 15/150\n",
            "224/224 [==============================] - 25s 113ms/step - loss: 1.2089 - accuracy: 0.5442 - val_loss: 2.2111 - val_accuracy: 0.5078\n",
            "Epoch 16/150\n",
            "224/224 [==============================] - 25s 114ms/step - loss: 1.2702 - accuracy: 0.5246 - val_loss: 6.0915 - val_accuracy: 0.3231\n",
            "Epoch 17/150\n",
            "224/224 [==============================] - 25s 113ms/step - loss: 1.3299 - accuracy: 0.4978 - val_loss: 13.0428 - val_accuracy: 0.2073\n",
            "Epoch 18/150\n",
            "224/224 [==============================] - 25s 113ms/step - loss: 1.3102 - accuracy: 0.5052 - val_loss: 4.2767 - val_accuracy: 0.4905\n",
            "Epoch 19/150\n",
            "224/224 [==============================] - 25s 114ms/step - loss: 1.2254 - accuracy: 0.5436 - val_loss: 7.9658 - val_accuracy: 0.5020\n",
            "Epoch 20/150\n",
            "224/224 [==============================] - 25s 113ms/step - loss: 1.2046 - accuracy: 0.5450 - val_loss: 1.3768 - val_accuracy: 0.5271\n",
            "Epoch 21/150\n",
            "224/224 [==============================] - 25s 113ms/step - loss: 1.1651 - accuracy: 0.5711 - val_loss: 5.0017 - val_accuracy: 0.4713\n",
            "Epoch 22/150\n",
            "224/224 [==============================] - 25s 113ms/step - loss: 1.1586 - accuracy: 0.5743 - val_loss: 32.8842 - val_accuracy: 0.2824\n",
            "Epoch 23/150\n",
            "224/224 [==============================] - 25s 113ms/step - loss: 1.2395 - accuracy: 0.5285 - val_loss: 1.6741 - val_accuracy: 0.3641\n",
            "Epoch 24/150\n",
            "224/224 [==============================] - 25s 113ms/step - loss: 1.2083 - accuracy: 0.5403 - val_loss: 1.2113 - val_accuracy: 0.5285\n",
            "Epoch 25/150\n",
            "224/224 [==============================] - 25s 113ms/step - loss: 1.0984 - accuracy: 0.5737 - val_loss: 4474.3628 - val_accuracy: 0.2447\n",
            "Epoch 26/150\n",
            "224/224 [==============================] - 25s 113ms/step - loss: 1.4194 - accuracy: 0.4660 - val_loss: 189.4859 - val_accuracy: 0.1794\n",
            "Epoch 27/150\n",
            "224/224 [==============================] - 25s 113ms/step - loss: 1.4083 - accuracy: 0.4658 - val_loss: 1.4111 - val_accuracy: 0.4235\n",
            "Epoch 28/150\n",
            "224/224 [==============================] - 25s 113ms/step - loss: 1.2786 - accuracy: 0.5126 - val_loss: 2.0270 - val_accuracy: 0.2698\n",
            "Epoch 29/150\n",
            "224/224 [==============================] - 25s 113ms/step - loss: 1.6338 - accuracy: 0.3586 - val_loss: 1.7869 - val_accuracy: 0.2614\n",
            "Epoch 30/150\n",
            "224/224 [==============================] - 25s 112ms/step - loss: 1.5603 - accuracy: 0.3716 - val_loss: 1.3971 - val_accuracy: 0.4358\n",
            "Epoch 31/150\n",
            "224/224 [==============================] - 25s 113ms/step - loss: 1.3726 - accuracy: 0.4560 - val_loss: 1.2783 - val_accuracy: 0.4925\n",
            "Epoch 32/150\n",
            "224/224 [==============================] - 25s 113ms/step - loss: 1.2762 - accuracy: 0.5047 - val_loss: 1.2803 - val_accuracy: 0.4967\n",
            "Epoch 33/150\n",
            "224/224 [==============================] - 25s 112ms/step - loss: 1.2290 - accuracy: 0.5187 - val_loss: 1.1652 - val_accuracy: 0.5469\n",
            "Epoch 34/150\n",
            "224/224 [==============================] - 25s 113ms/step - loss: 1.1837 - accuracy: 0.5396 - val_loss: 1.1563 - val_accuracy: 0.5533\n",
            "Epoch 35/150\n",
            "224/224 [==============================] - 25s 112ms/step - loss: 1.1552 - accuracy: 0.5494 - val_loss: 1.1054 - val_accuracy: 0.5700\n",
            "Epoch 36/150\n",
            "224/224 [==============================] - 25s 113ms/step - loss: 1.1197 - accuracy: 0.5662 - val_loss: 1.1128 - val_accuracy: 0.5647\n",
            "Epoch 37/150\n",
            "224/224 [==============================] - 25s 112ms/step - loss: 1.0973 - accuracy: 0.5759 - val_loss: 1.0952 - val_accuracy: 0.5723\n",
            "Epoch 38/150\n",
            "224/224 [==============================] - 25s 113ms/step - loss: 1.0929 - accuracy: 0.5803 - val_loss: 1.2724 - val_accuracy: 0.4955\n",
            "Epoch 39/150\n",
            "224/224 [==============================] - 25s 113ms/step - loss: 1.1118 - accuracy: 0.5728 - val_loss: 1.1511 - val_accuracy: 0.5558\n",
            "Epoch 40/150\n",
            "224/224 [==============================] - 25s 113ms/step - loss: 1.1186 - accuracy: 0.5768 - val_loss: 1.1045 - val_accuracy: 0.5675\n",
            "Epoch 41/150\n",
            "224/224 [==============================] - 25s 112ms/step - loss: 1.0591 - accuracy: 0.5978 - val_loss: 1.2233 - val_accuracy: 0.5561\n",
            "Epoch 42/150\n",
            "224/224 [==============================] - 25s 112ms/step - loss: 1.0843 - accuracy: 0.5881 - val_loss: 1.2124 - val_accuracy: 0.5198\n",
            "Epoch 43/150\n",
            "224/224 [==============================] - 25s 113ms/step - loss: 1.0553 - accuracy: 0.5946 - val_loss: 1.1408 - val_accuracy: 0.5661\n",
            "Epoch 44/150\n",
            "224/224 [==============================] - 25s 112ms/step - loss: 1.0479 - accuracy: 0.5974 - val_loss: 1.2513 - val_accuracy: 0.5407\n",
            "Epoch 45/150\n",
            "224/224 [==============================] - 25s 113ms/step - loss: 1.0420 - accuracy: 0.6017 - val_loss: 1.1548 - val_accuracy: 0.5770\n",
            "Epoch 46/150\n",
            "224/224 [==============================] - 25s 112ms/step - loss: 1.0599 - accuracy: 0.6005 - val_loss: 1.3667 - val_accuracy: 0.5332\n",
            "Epoch 47/150\n",
            "224/224 [==============================] - 25s 113ms/step - loss: 1.0503 - accuracy: 0.6005 - val_loss: 1.5869 - val_accuracy: 0.3312\n",
            "\n",
            "Epoch 00047: ReduceLROnPlateau reducing learning rate to 0.0005000000237487257.\n",
            "Epoch 48/150\n",
            "224/224 [==============================] - 25s 113ms/step - loss: 1.1730 - accuracy: 0.5522 - val_loss: 1.1095 - val_accuracy: 0.5728\n",
            "Epoch 49/150\n",
            "224/224 [==============================] - 25s 112ms/step - loss: 0.9974 - accuracy: 0.6215 - val_loss: 1.0720 - val_accuracy: 0.5938\n",
            "Epoch 50/150\n",
            "224/224 [==============================] - 25s 113ms/step - loss: 0.9877 - accuracy: 0.6266 - val_loss: 1.0392 - val_accuracy: 0.6030\n",
            "Epoch 51/150\n",
            "224/224 [==============================] - 25s 113ms/step - loss: 0.9502 - accuracy: 0.6386 - val_loss: 1.0244 - val_accuracy: 0.6166\n",
            "Epoch 52/150\n",
            "224/224 [==============================] - 25s 113ms/step - loss: 0.9427 - accuracy: 0.6378 - val_loss: 1.0085 - val_accuracy: 0.6194\n",
            "Epoch 53/150\n",
            "224/224 [==============================] - 25s 112ms/step - loss: 0.9367 - accuracy: 0.6424 - val_loss: 1.0322 - val_accuracy: 0.6150\n",
            "Epoch 54/150\n",
            "224/224 [==============================] - 25s 112ms/step - loss: 0.9290 - accuracy: 0.6455 - val_loss: 0.9774 - val_accuracy: 0.6253\n",
            "Epoch 55/150\n",
            "224/224 [==============================] - 25s 113ms/step - loss: 0.9171 - accuracy: 0.6478 - val_loss: 1.0224 - val_accuracy: 0.6136\n",
            "Epoch 56/150\n",
            "224/224 [==============================] - 25s 112ms/step - loss: 0.9061 - accuracy: 0.6551 - val_loss: 1.0121 - val_accuracy: 0.6130\n",
            "Epoch 57/150\n",
            "224/224 [==============================] - 25s 113ms/step - loss: 0.9152 - accuracy: 0.6487 - val_loss: 1.0612 - val_accuracy: 0.5979\n",
            "Epoch 58/150\n",
            "224/224 [==============================] - 25s 113ms/step - loss: 0.8935 - accuracy: 0.6581 - val_loss: 1.0202 - val_accuracy: 0.6074\n",
            "Epoch 59/150\n",
            "224/224 [==============================] - 25s 112ms/step - loss: 0.9248 - accuracy: 0.6503 - val_loss: 1.0603 - val_accuracy: 0.5977\n",
            "Epoch 60/150\n",
            "224/224 [==============================] - 25s 113ms/step - loss: 0.8887 - accuracy: 0.6627 - val_loss: 1.0788 - val_accuracy: 0.5926\n",
            "Epoch 61/150\n",
            "224/224 [==============================] - 25s 113ms/step - loss: 0.8759 - accuracy: 0.6641 - val_loss: 1.0212 - val_accuracy: 0.6197\n",
            "Epoch 62/150\n",
            "224/224 [==============================] - 25s 112ms/step - loss: 0.8638 - accuracy: 0.6735 - val_loss: 1.0063 - val_accuracy: 0.6228\n",
            "Epoch 63/150\n",
            "224/224 [==============================] - 25s 113ms/step - loss: 0.9249 - accuracy: 0.6512 - val_loss: 1.0263 - val_accuracy: 0.6186\n",
            "Epoch 64/150\n",
            "224/224 [==============================] - 25s 113ms/step - loss: 0.8925 - accuracy: 0.6584 - val_loss: 1.1280 - val_accuracy: 0.5778\n",
            "Restoring model weights from the end of the best epoch.\n",
            "\n",
            "Epoch 00064: ReduceLROnPlateau reducing learning rate to 0.0002500000118743628.\n",
            "Epoch 00064: early stopping\n"
          ],
          "name": "stdout"
        }
      ]
    },
    {
      "cell_type": "code",
      "metadata": {
        "colab": {
          "base_uri": "https://localhost:8080/"
        },
        "id": "hIInc-_xO8qL",
        "outputId": "44401ae9-6b64-40f7-f09e-1411a93be902"
      },
      "source": [
        "testAug = ImageDataGenerator(rescale = 1 / 255.0)\r\n",
        "iap = ImageToArrayPreprocessor()\r\n",
        "\r\n",
        "testGen = HDF5DatasetGenerator(config.TEST_HDF5, config.BATCH_SIZE,\r\n",
        "    aug = testAug, preprocessors = [iap], classes = config.NUM_CLASSES)"
      ],
      "execution_count": 11,
      "outputs": [
        {
          "output_type": "stream",
          "text": [
            "/content/drive/MyDrive/colab-20210303T131708Z-001/colab/pipeline/io/hdf5datasetgenerator.py:20: H5pyDeprecationWarning: The default file mode will change to 'r' (read-only) in h5py 3.0. To suppress this warning, pass the mode you need to h5py.File(), or set the global default h5.get_config().default_file_mode, or set the environment variable H5PY_DEFAULT_READONLY=1. Available modes are: 'r', 'r+', 'w', 'w-'/'x', 'a'. See the docs for details.\n",
            "  self.db = h5py.File(dbPath)\n"
          ],
          "name": "stderr"
        }
      ]
    },
    {
      "cell_type": "code",
      "metadata": {
        "colab": {
          "base_uri": "https://localhost:8080/"
        },
        "id": "YR5NQXMhPapa",
        "outputId": "0719d29e-b7d3-4564-f9ca-04c470bac8e9"
      },
      "source": [
        "predictions = model.predict_generator(testGen.generator(),steps=testGen.numImages //64, max_queue_size=64*2)\r\n",
        "\r\n",
        "(loss, acc) = model.evaluate_generator(\r\n",
        "\ttestGen.generator(),\r\n",
        "\tsteps=testGen.numImages // config.BATCH_SIZE,\r\n",
        "\tmax_queue_size=config.BATCH_SIZE * 2)\r\n",
        "print(\"[INFO] accuracy: {:.2f}\".format(acc * 100))"
      ],
      "execution_count": 12,
      "outputs": [
        {
          "output_type": "stream",
          "text": [
            "/usr/local/lib/python3.7/dist-packages/tensorflow/python/keras/engine/training.py:1905: UserWarning: `Model.predict_generator` is deprecated and will be removed in a future version. Please use `Model.predict`, which supports generators.\n",
            "  warnings.warn('`Model.predict_generator` is deprecated and '\n",
            "/usr/local/lib/python3.7/dist-packages/tensorflow/python/keras/engine/training.py:1877: UserWarning: `Model.evaluate_generator` is deprecated and will be removed in a future version. Please use `Model.evaluate`, which supports generators.\n",
            "  warnings.warn('`Model.evaluate_generator` is deprecated and '\n"
          ],
          "name": "stderr"
        },
        {
          "output_type": "stream",
          "text": [
            "[INFO] accuracy: 61.44\n"
          ],
          "name": "stdout"
        }
      ]
    }
  ]
}