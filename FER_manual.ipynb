{
  "nbformat": 4,
  "nbformat_minor": 0,
  "metadata": {
    "colab": {
      "name": "FER_manual.ipynb",
      "provenance": [],
      "collapsed_sections": [],
      "mount_file_id": "1wTVgUXgXpZJYzDGBPBK9n-8ozMpwkans",
      "authorship_tag": "ABX9TyP5LEP02a3tIll4xlH98Lj1",
      "include_colab_link": true
    },
    "kernelspec": {
      "name": "python3",
      "display_name": "Python 3"
    },
    "accelerator": "GPU"
  },
  "cells": [
    {
      "cell_type": "markdown",
      "metadata": {
        "id": "view-in-github",
        "colab_type": "text"
      },
      "source": [
        "<a href=\"https://colab.research.google.com/github/mitul01/FER/blob/main/FER_manual.ipynb\" target=\"_parent\"><img src=\"https://colab.research.google.com/assets/colab-badge.svg\" alt=\"Open In Colab\"/></a>"
      ]
    },
    {
      "cell_type": "code",
      "metadata": {
        "colab": {
          "base_uri": "https://localhost:8080/"
        },
        "id": "-WuQYlT2d3xU",
        "outputId": "ff3b1d93-0ba2-4c88-c294-850f78978973"
      },
      "source": [
        "cd /content/drive/MyDrive/colab-20210303T131708Z-001/colab"
      ],
      "execution_count": 1,
      "outputs": [
        {
          "output_type": "stream",
          "text": [
            "/content/drive/MyDrive/colab-20210303T131708Z-001/colab\n"
          ],
          "name": "stdout"
        }
      ]
    },
    {
      "cell_type": "code",
      "metadata": {
        "id": "r6t-o_DTcQWI"
      },
      "source": [
        "from config import emotion_config as config\r\n",
        "from pipeline.preprocessing import ImageToArrayPreprocessor\r\n",
        "from pipeline.callbacks import EpochCheckpoint\r\n",
        "from pipeline.callbacks import TrainingMonitor\r\n",
        "from pipeline.io import HDF5DatasetGenerator\r\n",
        "from pipeline.nn.conv import EmotionVGGNet\r\n",
        "from keras.preprocessing.image import ImageDataGenerator\r\n",
        "from keras.optimizers import SGD\r\n",
        "from keras.optimizers import Adam\r\n",
        "from keras.models import load_model\r\n",
        "from keras import backend as K\r\n",
        "import argparse\r\n",
        "import os\r\n",
        "\r\n",
        "from keras.callbacks import ReduceLROnPlateau, EarlyStopping, TensorBoard, ModelCheckpoint\r\n",
        "from sklearn.metrics import accuracy_score\r\n",
        "\r\n",
        "from tensorflow.keras.models import Sequential\r\n",
        "from tensorflow.keras.layers import Flatten, Dense, Conv2D, MaxPooling2D, BatchNormalization, Dropout"
      ],
      "execution_count": 2,
      "outputs": []
    },
    {
      "cell_type": "code",
      "metadata": {
        "colab": {
          "base_uri": "https://localhost:8080/"
        },
        "id": "aN1e2UWDdz_l",
        "outputId": "ecf38ce2-97b3-47a5-fc80-6483ae33a797"
      },
      "source": [
        "trainAug = ImageDataGenerator(rotation_range = 10, zoom_range = 0.1,\r\n",
        "    horizontal_flip = True, rescale = 1 / 255.0, fill_mode = \"nearest\")\r\n",
        "\r\n",
        "valAug = ImageDataGenerator(rescale = 1 / 255.0)\r\n",
        "iap = ImageToArrayPreprocessor()\r\n",
        "\r\n",
        "# initialize the training and validation dataset generators\r\n",
        "\r\n",
        "trainGen = HDF5DatasetGenerator(config.TRAIN_HDF5, config.BATCH_SIZE,\r\n",
        "    aug = trainAug, preprocessors = [iap], classes = config.NUM_CLASSES)\r\n",
        "valGen = HDF5DatasetGenerator(config.VAL_HDF5, config.BATCH_SIZE,\r\n",
        "    aug = valAug, preprocessors = [iap], classes = config.NUM_CLASSES)"
      ],
      "execution_count": 3,
      "outputs": [
        {
          "output_type": "stream",
          "text": [
            "/content/drive/My Drive/colab-20210303T131708Z-001/colab/pipeline/io/hdf5datasetgenerator.py:20: H5pyDeprecationWarning: The default file mode will change to 'r' (read-only) in h5py 3.0. To suppress this warning, pass the mode you need to h5py.File(), or set the global default h5.get_config().default_file_mode, or set the environment variable H5PY_DEFAULT_READONLY=1. Available modes are: 'r', 'r+', 'w', 'w-'/'x', 'a'. See the docs for details.\n",
            "  self.db = h5py.File(dbPath)\n"
          ],
          "name": "stderr"
        }
      ]
    },
    {
      "cell_type": "code",
      "metadata": {
        "id": "1viGSWBreSa9"
      },
      "source": [
        "def build_net(optim):\r\n",
        "    net = Sequential(name='FER_Net')\r\n",
        "\r\n",
        "    #Block 1\r\n",
        "    net.add(\r\n",
        "        Conv2D(filters=64,kernel_size=(5,5),input_shape=(48,48,1),activation='relu',padding='same',name='conv2d_1')\r\n",
        "    )\r\n",
        "    net.add(BatchNormalization(name='batchnorm_1'))\r\n",
        "\r\n",
        "    #Block 2\r\n",
        "    net.add(\r\n",
        "        Conv2D(filters=64,kernel_size=(5,5),input_shape=(48,48,1),activation='relu',padding='same',name='conv2d_3')\r\n",
        "    )\r\n",
        "    net.add(\r\n",
        "        Conv2D(filters=64,kernel_size=(3,3),input_shape=(48,48,1),activation='relu',padding='same',name='conv2d_4')\r\n",
        "    )\r\n",
        "    net.add(BatchNormalization(name='batchnorm_2'))\r\n",
        "\r\n",
        "    # Pooling Block 1\r\n",
        "    net.add(MaxPooling2D(pool_size=(2,2), name='maxpool2d_1'))\r\n",
        "\r\n",
        "    # Block 3 \r\n",
        "    net.add(\r\n",
        "        Conv2D(filters=64,kernel_size=(5,5),input_shape=(48,48,1),activation='relu',padding='same',name='conv2d_5')\r\n",
        "    )\r\n",
        "    net.add(\r\n",
        "        Conv2D(filters=64,kernel_size=(3,3),input_shape=(48,48,1),activation='relu',padding='same',name='conv2d_7')\r\n",
        "    )\r\n",
        "    net.add(BatchNormalization(name='batchnorm_3'))\r\n",
        "\r\n",
        "    # Pooling Block 2 \r\n",
        "    net.add(MaxPooling2D(pool_size=(2,2), name='maxpool2d_2'))\r\n",
        "\r\n",
        "    # Block 4 \r\n",
        "    net.add(\r\n",
        "        Conv2D(filters=64,kernel_size=(5,5),input_shape=(48,48,1),activation='relu',padding='same',name='conv2d_9')\r\n",
        "    )\r\n",
        "    net.add(\r\n",
        "        Conv2D(filters=64,kernel_size=(3,3),input_shape=(48,48,1),activation='relu',padding='same',name='conv2d_10')\r\n",
        "    )\r\n",
        "    net.add(BatchNormalization(name='batchnorm_4'))\r\n",
        "    net.add(\r\n",
        "        Conv2D(filters=64,kernel_size=(5,5),input_shape=(48,48,1),activation='relu',padding='same',name='conv2d_11')\r\n",
        "    )\r\n",
        "    net.add(\r\n",
        "        Conv2D(filters=64,kernel_size=(3,3),input_shape=(48,48,1),activation='relu',padding='same',name='conv2d_12')\r\n",
        "    )\r\n",
        "    net.add(BatchNormalization(name='batchnorm_5'))\r\n",
        "    \r\n",
        "    # Pooling Block 3 \r\n",
        "    net.add(MaxPooling2D(pool_size=(2,2), name='maxpool2d_3'))\r\n",
        "\r\n",
        "    # Flatten Neural Net ( Dense Layers )\r\n",
        "    net.add(Flatten(name='flatten'))\r\n",
        "        \r\n",
        "    net.add(\r\n",
        "        Dense(128,activation='relu',name='dense_1')\r\n",
        "    )\r\n",
        "    net.add(Dropout(0.5, name='dropout_4'))\r\n",
        "    net.add(BatchNormalization(name='batchnorm_6'))\r\n",
        "    net.add(\r\n",
        "        Dense(config.NUM_CLASSES,activation='softmax',name='out_layer')\r\n",
        "      )\r\n",
        "    net.compile(loss='categorical_crossentropy',optimizer=optim,metrics=['accuracy'])\r\n",
        "    \r\n",
        "    net.summary()\r\n",
        "    \r\n",
        "    return net"
      ],
      "execution_count": 4,
      "outputs": []
    },
    {
      "cell_type": "code",
      "metadata": {
        "id": "4mWe4NVgetGk"
      },
      "source": [
        "batch_size = 32 #batch size of 32 performs the best.\r\n",
        "\r\n",
        "epochs = 150\r\n",
        "from tensorflow.keras import optimizers\r\n",
        "optim=optimizers.Adam(0.001)\r\n",
        "\r\n",
        "early_stopping = EarlyStopping(\r\n",
        "    monitor='val_accuracy',\r\n",
        "    min_delta=0.00005,\r\n",
        "    patience=11,\r\n",
        "    verbose=1,\r\n",
        "    restore_best_weights=True,\r\n",
        ")\r\n",
        "\r\n",
        "lr_scheduler = ReduceLROnPlateau(\r\n",
        "    monitor='val_accuracy',\r\n",
        "    factor=0.5,\r\n",
        "    patience=7,\r\n",
        "    min_lr=1e-7,\r\n",
        "    verbose=1,\r\n",
        ")\r\n",
        "\r\n",
        "callbacks = [\r\n",
        "    early_stopping,\r\n",
        "    lr_scheduler,\r\n",
        "]"
      ],
      "execution_count": 5,
      "outputs": []
    },
    {
      "cell_type": "code",
      "metadata": {
        "colab": {
          "base_uri": "https://localhost:8080/"
        },
        "id": "RY_o_i2ye97q",
        "outputId": "ffe84906-82a3-4ac1-f54d-21597a0f8773"
      },
      "source": [
        "model = build_net(optim) \r\n",
        "\r\n",
        "history=model.fit_generator(\r\n",
        "    trainGen.generator(),\r\n",
        "    steps_per_epoch = trainGen.numImages // batch_size,\r\n",
        "    validation_data = valGen.generator(),\r\n",
        "    validation_steps = valGen.numImages // batch_size,\r\n",
        "    epochs = epochs,\r\n",
        "    callbacks = callbacks,\r\n",
        "    verbose = 1\r\n",
        ")"
      ],
      "execution_count": 6,
      "outputs": [
        {
          "output_type": "stream",
          "text": [
            "Model: \"FER_Net\"\n",
            "_________________________________________________________________\n",
            "Layer (type)                 Output Shape              Param #   \n",
            "=================================================================\n",
            "conv2d_1 (Conv2D)            (None, 48, 48, 64)        1664      \n",
            "_________________________________________________________________\n",
            "batchnorm_1 (BatchNormalizat (None, 48, 48, 64)        256       \n",
            "_________________________________________________________________\n",
            "conv2d_3 (Conv2D)            (None, 48, 48, 64)        102464    \n",
            "_________________________________________________________________\n",
            "conv2d_4 (Conv2D)            (None, 48, 48, 64)        36928     \n",
            "_________________________________________________________________\n",
            "batchnorm_2 (BatchNormalizat (None, 48, 48, 64)        256       \n",
            "_________________________________________________________________\n",
            "maxpool2d_1 (MaxPooling2D)   (None, 24, 24, 64)        0         \n",
            "_________________________________________________________________\n",
            "conv2d_5 (Conv2D)            (None, 24, 24, 64)        102464    \n",
            "_________________________________________________________________\n",
            "conv2d_7 (Conv2D)            (None, 24, 24, 64)        36928     \n",
            "_________________________________________________________________\n",
            "batchnorm_3 (BatchNormalizat (None, 24, 24, 64)        256       \n",
            "_________________________________________________________________\n",
            "maxpool2d_2 (MaxPooling2D)   (None, 12, 12, 64)        0         \n",
            "_________________________________________________________________\n",
            "conv2d_9 (Conv2D)            (None, 12, 12, 64)        102464    \n",
            "_________________________________________________________________\n",
            "conv2d_10 (Conv2D)           (None, 12, 12, 64)        36928     \n",
            "_________________________________________________________________\n",
            "batchnorm_4 (BatchNormalizat (None, 12, 12, 64)        256       \n",
            "_________________________________________________________________\n",
            "conv2d_11 (Conv2D)           (None, 12, 12, 64)        102464    \n",
            "_________________________________________________________________\n",
            "conv2d_12 (Conv2D)           (None, 12, 12, 64)        36928     \n",
            "_________________________________________________________________\n",
            "batchnorm_5 (BatchNormalizat (None, 12, 12, 64)        256       \n",
            "_________________________________________________________________\n",
            "maxpool2d_3 (MaxPooling2D)   (None, 6, 6, 64)          0         \n",
            "_________________________________________________________________\n",
            "flatten (Flatten)            (None, 2304)              0         \n",
            "_________________________________________________________________\n",
            "dense_1 (Dense)              (None, 128)               295040    \n",
            "_________________________________________________________________\n",
            "dropout_4 (Dropout)          (None, 128)               0         \n",
            "_________________________________________________________________\n",
            "batchnorm_6 (BatchNormalizat (None, 128)               512       \n",
            "_________________________________________________________________\n",
            "out_layer (Dense)            (None, 6)                 774       \n",
            "=================================================================\n",
            "Total params: 856,838\n",
            "Trainable params: 855,942\n",
            "Non-trainable params: 896\n",
            "_________________________________________________________________\n",
            "Epoch 1/150\n"
          ],
          "name": "stdout"
        },
        {
          "output_type": "stream",
          "text": [
            "/usr/local/lib/python3.7/dist-packages/tensorflow/python/keras/engine/training.py:1844: UserWarning: `Model.fit_generator` is deprecated and will be removed in a future version. Please use `Model.fit`, which supports generators.\n",
            "  warnings.warn('`Model.fit_generator` is deprecated and '\n"
          ],
          "name": "stderr"
        },
        {
          "output_type": "stream",
          "text": [
            "897/897 [==============================] - 97s 70ms/step - loss: 1.7792 - accuracy: 0.3150 - val_loss: 1.2346 - val_accuracy: 0.5295\n",
            "Epoch 2/150\n",
            "897/897 [==============================] - 61s 68ms/step - loss: 1.1535 - accuracy: 0.5571 - val_loss: 1.0824 - val_accuracy: 0.5873\n",
            "Epoch 3/150\n",
            "897/897 [==============================] - 61s 68ms/step - loss: 1.0219 - accuracy: 0.6119 - val_loss: 1.0849 - val_accuracy: 0.5859\n",
            "Epoch 4/150\n",
            "897/897 [==============================] - 61s 68ms/step - loss: 0.9329 - accuracy: 0.6461 - val_loss: 1.0118 - val_accuracy: 0.6163\n",
            "Epoch 5/150\n",
            "897/897 [==============================] - 61s 68ms/step - loss: 0.8702 - accuracy: 0.6714 - val_loss: 1.0220 - val_accuracy: 0.6265\n",
            "Epoch 6/150\n",
            "897/897 [==============================] - 61s 68ms/step - loss: 0.8166 - accuracy: 0.6923 - val_loss: 0.9771 - val_accuracy: 0.6461\n",
            "Epoch 7/150\n",
            "897/897 [==============================] - 61s 68ms/step - loss: 0.7678 - accuracy: 0.7110 - val_loss: 1.0413 - val_accuracy: 0.6386\n",
            "Epoch 8/150\n",
            "897/897 [==============================] - 61s 68ms/step - loss: 0.7284 - accuracy: 0.7260 - val_loss: 1.0144 - val_accuracy: 0.6424\n",
            "Epoch 9/150\n",
            "897/897 [==============================] - 61s 68ms/step - loss: 0.6865 - accuracy: 0.7413 - val_loss: 1.0088 - val_accuracy: 0.6648\n",
            "Epoch 10/150\n",
            "897/897 [==============================] - 60s 67ms/step - loss: 0.6455 - accuracy: 0.7580 - val_loss: 1.0543 - val_accuracy: 0.6518\n",
            "Epoch 11/150\n",
            "897/897 [==============================] - 60s 67ms/step - loss: 0.6098 - accuracy: 0.7730 - val_loss: 1.0499 - val_accuracy: 0.6652\n",
            "Epoch 12/150\n",
            "897/897 [==============================] - 60s 67ms/step - loss: 0.5703 - accuracy: 0.7860 - val_loss: 1.1740 - val_accuracy: 0.6344\n",
            "Epoch 13/150\n",
            "897/897 [==============================] - 60s 67ms/step - loss: 0.5492 - accuracy: 0.7944 - val_loss: 1.1108 - val_accuracy: 0.6627\n",
            "Epoch 14/150\n",
            "897/897 [==============================] - 60s 67ms/step - loss: 0.5218 - accuracy: 0.8041 - val_loss: 1.1359 - val_accuracy: 0.6599\n",
            "Epoch 15/150\n",
            "897/897 [==============================] - 60s 67ms/step - loss: 0.4996 - accuracy: 0.8146 - val_loss: 1.1751 - val_accuracy: 0.6627\n",
            "Epoch 16/150\n",
            "897/897 [==============================] - 60s 67ms/step - loss: 0.4715 - accuracy: 0.8237 - val_loss: 1.1883 - val_accuracy: 0.6642\n",
            "Epoch 17/150\n",
            "897/897 [==============================] - 60s 67ms/step - loss: 0.4514 - accuracy: 0.8312 - val_loss: 1.2626 - val_accuracy: 0.6531\n",
            "Epoch 18/150\n",
            "897/897 [==============================] - 60s 67ms/step - loss: 0.4321 - accuracy: 0.8393 - val_loss: 1.4007 - val_accuracy: 0.6560\n",
            "\n",
            "Epoch 00018: ReduceLROnPlateau reducing learning rate to 0.0005000000237487257.\n",
            "Epoch 19/150\n",
            "897/897 [==============================] - 60s 67ms/step - loss: 0.3730 - accuracy: 0.8615 - val_loss: 1.3141 - val_accuracy: 0.6701\n",
            "Epoch 20/150\n",
            "897/897 [==============================] - 60s 67ms/step - loss: 0.3271 - accuracy: 0.8780 - val_loss: 1.3931 - val_accuracy: 0.6773\n",
            "Epoch 21/150\n",
            "897/897 [==============================] - 60s 67ms/step - loss: 0.3052 - accuracy: 0.8886 - val_loss: 1.4390 - val_accuracy: 0.6747\n",
            "Epoch 22/150\n",
            "897/897 [==============================] - 60s 67ms/step - loss: 0.2920 - accuracy: 0.8932 - val_loss: 1.4883 - val_accuracy: 0.6708\n",
            "Epoch 23/150\n",
            "897/897 [==============================] - 60s 67ms/step - loss: 0.2749 - accuracy: 0.8981 - val_loss: 1.4604 - val_accuracy: 0.6665\n",
            "Epoch 24/150\n",
            "897/897 [==============================] - 60s 67ms/step - loss: 0.2617 - accuracy: 0.9043 - val_loss: 1.5279 - val_accuracy: 0.6699\n",
            "Epoch 25/150\n",
            "897/897 [==============================] - 60s 67ms/step - loss: 0.2598 - accuracy: 0.9039 - val_loss: 1.5066 - val_accuracy: 0.6796\n",
            "Epoch 26/150\n",
            "897/897 [==============================] - 60s 67ms/step - loss: 0.2504 - accuracy: 0.9085 - val_loss: 1.5669 - val_accuracy: 0.6705\n",
            "Epoch 27/150\n",
            "897/897 [==============================] - 60s 67ms/step - loss: 0.2387 - accuracy: 0.9125 - val_loss: 1.5838 - val_accuracy: 0.6783\n",
            "Epoch 28/150\n",
            "897/897 [==============================] - 60s 67ms/step - loss: 0.2335 - accuracy: 0.9148 - val_loss: 1.5715 - val_accuracy: 0.6783\n",
            "Epoch 29/150\n",
            "897/897 [==============================] - 60s 67ms/step - loss: 0.2257 - accuracy: 0.9160 - val_loss: 1.5839 - val_accuracy: 0.6636\n",
            "Epoch 30/150\n",
            "897/897 [==============================] - 60s 67ms/step - loss: 0.2231 - accuracy: 0.9184 - val_loss: 1.6182 - val_accuracy: 0.6700\n",
            "Epoch 31/150\n",
            "897/897 [==============================] - 60s 67ms/step - loss: 0.2174 - accuracy: 0.9208 - val_loss: 1.6781 - val_accuracy: 0.6729\n",
            "Epoch 32/150\n",
            "897/897 [==============================] - 60s 67ms/step - loss: 0.2109 - accuracy: 0.9228 - val_loss: 1.6636 - val_accuracy: 0.6773\n",
            "\n",
            "Epoch 00032: ReduceLROnPlateau reducing learning rate to 0.0002500000118743628.\n",
            "Epoch 33/150\n",
            "897/897 [==============================] - 60s 67ms/step - loss: 0.1882 - accuracy: 0.9325 - val_loss: 1.6889 - val_accuracy: 0.6837\n",
            "Epoch 34/150\n",
            "897/897 [==============================] - 60s 67ms/step - loss: 0.1670 - accuracy: 0.9396 - val_loss: 1.7622 - val_accuracy: 0.6768\n",
            "Epoch 35/150\n",
            "897/897 [==============================] - 60s 67ms/step - loss: 0.1612 - accuracy: 0.9429 - val_loss: 1.7841 - val_accuracy: 0.6811\n",
            "Epoch 36/150\n",
            "897/897 [==============================] - 60s 67ms/step - loss: 0.1500 - accuracy: 0.9469 - val_loss: 1.8306 - val_accuracy: 0.6804\n",
            "Epoch 37/150\n",
            "897/897 [==============================] - 60s 67ms/step - loss: 0.1463 - accuracy: 0.9473 - val_loss: 1.8912 - val_accuracy: 0.6852\n",
            "Epoch 38/150\n",
            "897/897 [==============================] - 61s 68ms/step - loss: 0.1420 - accuracy: 0.9500 - val_loss: 1.8483 - val_accuracy: 0.6884\n",
            "Epoch 39/150\n",
            "897/897 [==============================] - 61s 68ms/step - loss: 0.1397 - accuracy: 0.9509 - val_loss: 1.9262 - val_accuracy: 0.6845\n",
            "Epoch 40/150\n",
            "897/897 [==============================] - 61s 68ms/step - loss: 0.1367 - accuracy: 0.9516 - val_loss: 1.9816 - val_accuracy: 0.6815\n",
            "Epoch 41/150\n",
            "897/897 [==============================] - 62s 69ms/step - loss: 0.1365 - accuracy: 0.9502 - val_loss: 1.8967 - val_accuracy: 0.6818\n",
            "Epoch 42/150\n",
            "897/897 [==============================] - 62s 70ms/step - loss: 0.1349 - accuracy: 0.9511 - val_loss: 1.9872 - val_accuracy: 0.6802\n",
            "Epoch 43/150\n",
            "897/897 [==============================] - 62s 69ms/step - loss: 0.1268 - accuracy: 0.9546 - val_loss: 2.0054 - val_accuracy: 0.6856\n",
            "Epoch 44/150\n",
            "897/897 [==============================] - 62s 69ms/step - loss: 0.1309 - accuracy: 0.9537 - val_loss: 2.0088 - val_accuracy: 0.6818\n",
            "Epoch 45/150\n",
            "897/897 [==============================] - 61s 68ms/step - loss: 0.1290 - accuracy: 0.9544 - val_loss: 2.0228 - val_accuracy: 0.6745\n",
            "\n",
            "Epoch 00045: ReduceLROnPlateau reducing learning rate to 0.0001250000059371814.\n",
            "Epoch 46/150\n",
            "897/897 [==============================] - 61s 68ms/step - loss: 0.1140 - accuracy: 0.9591 - val_loss: 1.9994 - val_accuracy: 0.6832\n",
            "Epoch 47/150\n",
            "897/897 [==============================] - 61s 68ms/step - loss: 0.1062 - accuracy: 0.9622 - val_loss: 2.0603 - val_accuracy: 0.6872\n",
            "Epoch 48/150\n",
            "897/897 [==============================] - 61s 68ms/step - loss: 0.1010 - accuracy: 0.9636 - val_loss: 2.0597 - val_accuracy: 0.6893\n",
            "Epoch 49/150\n",
            "897/897 [==============================] - 61s 68ms/step - loss: 0.1003 - accuracy: 0.9652 - val_loss: 2.1106 - val_accuracy: 0.6860\n",
            "Epoch 50/150\n",
            "897/897 [==============================] - 61s 68ms/step - loss: 0.0974 - accuracy: 0.9637 - val_loss: 2.0994 - val_accuracy: 0.6880\n",
            "Epoch 51/150\n",
            "897/897 [==============================] - 61s 68ms/step - loss: 0.0980 - accuracy: 0.9649 - val_loss: 2.1368 - val_accuracy: 0.6801\n",
            "Epoch 52/150\n",
            "897/897 [==============================] - 61s 68ms/step - loss: 0.0919 - accuracy: 0.9678 - val_loss: 2.1461 - val_accuracy: 0.6854\n",
            "Epoch 53/150\n",
            "897/897 [==============================] - 61s 68ms/step - loss: 0.0898 - accuracy: 0.9682 - val_loss: 2.1548 - val_accuracy: 0.6889\n",
            "Epoch 54/150\n",
            "897/897 [==============================] - 62s 69ms/step - loss: 0.0935 - accuracy: 0.9664 - val_loss: 2.1824 - val_accuracy: 0.6894\n",
            "Epoch 55/150\n",
            "897/897 [==============================] - 61s 69ms/step - loss: 0.0900 - accuracy: 0.9683 - val_loss: 2.1893 - val_accuracy: 0.6924\n",
            "Epoch 56/150\n",
            "897/897 [==============================] - 61s 68ms/step - loss: 0.0900 - accuracy: 0.9686 - val_loss: 2.1888 - val_accuracy: 0.6869\n",
            "Epoch 57/150\n",
            "897/897 [==============================] - 61s 68ms/step - loss: 0.0895 - accuracy: 0.9685 - val_loss: 2.1945 - val_accuracy: 0.6898\n",
            "Epoch 58/150\n",
            "897/897 [==============================] - 61s 68ms/step - loss: 0.0842 - accuracy: 0.9700 - val_loss: 2.2231 - val_accuracy: 0.6908\n",
            "Epoch 59/150\n",
            "897/897 [==============================] - 61s 68ms/step - loss: 0.0847 - accuracy: 0.9696 - val_loss: 2.2180 - val_accuracy: 0.6883\n",
            "Epoch 60/150\n",
            "897/897 [==============================] - 61s 68ms/step - loss: 0.0865 - accuracy: 0.9693 - val_loss: 2.2507 - val_accuracy: 0.6886\n",
            "Epoch 61/150\n",
            "897/897 [==============================] - 61s 68ms/step - loss: 0.0862 - accuracy: 0.9695 - val_loss: 2.2838 - val_accuracy: 0.6872\n",
            "Epoch 62/150\n",
            "897/897 [==============================] - 61s 67ms/step - loss: 0.0845 - accuracy: 0.9699 - val_loss: 2.2804 - val_accuracy: 0.6900\n",
            "\n",
            "Epoch 00062: ReduceLROnPlateau reducing learning rate to 6.25000029685907e-05.\n",
            "Epoch 63/150\n",
            "897/897 [==============================] - 61s 68ms/step - loss: 0.0805 - accuracy: 0.9717 - val_loss: 2.3110 - val_accuracy: 0.6898\n",
            "Epoch 64/150\n",
            "897/897 [==============================] - 61s 68ms/step - loss: 0.0739 - accuracy: 0.9739 - val_loss: 2.3054 - val_accuracy: 0.6866\n",
            "Epoch 65/150\n",
            "897/897 [==============================] - 62s 69ms/step - loss: 0.0749 - accuracy: 0.9731 - val_loss: 2.3222 - val_accuracy: 0.6868\n",
            "Epoch 66/150\n",
            "897/897 [==============================] - 62s 69ms/step - loss: 0.0715 - accuracy: 0.9747 - val_loss: 2.3558 - val_accuracy: 0.6833\n",
            "Restoring model weights from the end of the best epoch.\n",
            "Epoch 00066: early stopping\n"
          ],
          "name": "stdout"
        }
      ]
    },
    {
      "cell_type": "code",
      "metadata": {
        "colab": {
          "base_uri": "https://localhost:8080/"
        },
        "id": "oOfsY6-wfOVA",
        "outputId": "581fbe9a-0b8c-4bee-bd1e-64cb3beadb30"
      },
      "source": [
        "testAug = ImageDataGenerator(rescale = 1 / 255.0)\r\n",
        "iap = ImageToArrayPreprocessor()\r\n",
        "\r\n",
        "testGen = HDF5DatasetGenerator(config.TEST_HDF5, config.BATCH_SIZE,\r\n",
        "    aug = testAug, preprocessors = [iap], classes = config.NUM_CLASSES)"
      ],
      "execution_count": 7,
      "outputs": [
        {
          "output_type": "stream",
          "text": [
            "/content/drive/My Drive/colab-20210303T131708Z-001/colab/pipeline/io/hdf5datasetgenerator.py:20: H5pyDeprecationWarning: The default file mode will change to 'r' (read-only) in h5py 3.0. To suppress this warning, pass the mode you need to h5py.File(), or set the global default h5.get_config().default_file_mode, or set the environment variable H5PY_DEFAULT_READONLY=1. Available modes are: 'r', 'r+', 'w', 'w-'/'x', 'a'. See the docs for details.\n",
            "  self.db = h5py.File(dbPath)\n"
          ],
          "name": "stderr"
        }
      ]
    },
    {
      "cell_type": "code",
      "metadata": {
        "colab": {
          "base_uri": "https://localhost:8080/"
        },
        "id": "k1KNwa4OzLwc",
        "outputId": "c7552865-b79d-4004-abc7-d2d5912a04b9"
      },
      "source": [
        "predictions = model.predict_generator(testGen.generator(),steps=testGen.numImages //64, max_queue_size=64*2)\r\n",
        "\r\n",
        "(loss, acc) = model.evaluate_generator(\r\n",
        "\ttestGen.generator(),\r\n",
        "\tsteps=testGen.numImages // config.BATCH_SIZE,\r\n",
        "\tmax_queue_size=config.BATCH_SIZE * 2)\r\n",
        "print(\"[INFO] accuracy: {:.2f}\".format(acc * 100))"
      ],
      "execution_count": 8,
      "outputs": [
        {
          "output_type": "stream",
          "text": [
            "/usr/local/lib/python3.7/dist-packages/tensorflow/python/keras/engine/training.py:1905: UserWarning: `Model.predict_generator` is deprecated and will be removed in a future version. Please use `Model.predict`, which supports generators.\n",
            "  warnings.warn('`Model.predict_generator` is deprecated and '\n",
            "/usr/local/lib/python3.7/dist-packages/tensorflow/python/keras/engine/training.py:1877: UserWarning: `Model.evaluate_generator` is deprecated and will be removed in a future version. Please use `Model.evaluate`, which supports generators.\n",
            "  warnings.warn('`Model.evaluate_generator` is deprecated and '\n"
          ],
          "name": "stderr"
        },
        {
          "output_type": "stream",
          "text": [
            "[INFO] accuracy: 67.35\n"
          ],
          "name": "stdout"
        }
      ]
    },
    {
      "cell_type": "code",
      "metadata": {
        "id": "L9X6xuuA09OC"
      },
      "source": [
        "import matplotlib.pyplot as plt"
      ],
      "execution_count": 15,
      "outputs": []
    },
    {
      "cell_type": "code",
      "metadata": {
        "colab": {
          "base_uri": "https://localhost:8080/",
          "height": 573
        },
        "id": "7Q-WzKGfzz85",
        "outputId": "fd0ab1a8-11fe-4ee7-a21a-3253fae54084"
      },
      "source": [
        "plt.plot(history.history['accuracy'])\r\n",
        "plt.plot(history.history['val_accuracy'])\r\n",
        "plt.title('model accuracy')\r\n",
        "plt.ylabel('accuracy')\r\n",
        "plt.xlabel('epoch')\r\n",
        "plt.legend(['train', 'dev'], loc='upper left')\r\n",
        "plt.show()\r\n",
        "# summarize history for loss\r\n",
        "plt.plot(history.history['loss'])\r\n",
        "plt.plot(history.history['val_loss'])\r\n",
        "plt.title('model loss')\r\n",
        "plt.ylabel('loss')\r\n",
        "plt.xlabel('epoch')\r\n",
        "plt.legend(['train', 'dev'], loc='upper left')\r\n",
        "plt.show()"
      ],
      "execution_count": 18,
      "outputs": [
        {
          "output_type": "display_data",
          "data": {
            "image/png": "[encoded data removed]",
            "text/plain": [
              "<Figure size 432x288 with 1 Axes>"
            ]
          },
          "metadata": {
            "tags": [],
            "needs_background": "light"
          }
        },
        {
          "output_type": "display_data",
          "data": {
            "image/png": "[encoded data removed]",
            "text/plain": [
              "<Figure size 432x288 with 1 Axes>"
            ]
          },
          "metadata": {
            "tags": [],
            "needs_background": "light"
          }
        }
      ]
    },
    {
      "cell_type": "code",
      "metadata": {
        "id": "zoMFuVVK1EYY"
      },
      "source": [
        ""
      ],
      "execution_count": null,
      "outputs": []
    }
  ]
}